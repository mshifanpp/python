{
 "cells": [
  {
   "cell_type": "code",
   "execution_count": 22,
   "id": "c5759576-0378-4f4f-ac1e-d8a4f118c612",
   "metadata": {},
   "outputs": [
    {
     "name": "stdin",
     "output_type": "stream",
     "text": [
      "enter the integer : 5\n"
     ]
    },
    {
     "name": "stdout",
     "output_type": "stream",
     "text": [
      "5 + 55 + 555 = 615\n"
     ]
    }
   ],
   "source": [
    "#program for accept an integer (n)and computes n+nn+nnn\n",
    "n=input(\"enter the integer :\")\n",
    "nn= n * 2\n",
    "nnn= n * 3\n",
    "sum= int(n) +int(nn) + int(nnn)\n",
    "print(n,\"+\",nn,\"+\",nnn,\"=\",sum)"
   ]
  },
  {
   "cell_type": "code",
   "execution_count": 24,
   "id": "55b8fdc1-7caa-4c94-a05e-9e2234be5b3f",
   "metadata": {},
   "outputs": [
    {
     "name": "stdin",
     "output_type": "stream",
     "text": [
      "enter the radius : 5\n"
     ]
    },
    {
     "name": "stdout",
     "output_type": "stream",
     "text": [
      "area of circle 78.53981633974483\n"
     ]
    }
   ],
   "source": [
    "#program for finding area of circle by given radius [import math]\n",
    "import math\n",
    "r=float(input(\"enter the radius :\"))\n",
    "area=math.pi*r**2\n",
    "print(\"area of circle\",area)"
   ]
  },
  {
   "cell_type": "code",
   "execution_count": null,
   "id": "b5cdb592-cbd9-4b62-aad9-1c50a95ebe75",
   "metadata": {},
   "outputs": [],
   "source": []
  }
 ],
 "metadata": {
  "kernelspec": {
   "display_name": "Python 3 (ipykernel)",
   "language": "python",
   "name": "python3"
  },
  "language_info": {
   "codemirror_mode": {
    "name": "ipython",
    "version": 3
   },
   "file_extension": ".py",
   "mimetype": "text/x-python",
   "name": "python",
   "nbconvert_exporter": "python",
   "pygments_lexer": "ipython3",
   "version": "3.11.5"
  }
 },
 "nbformat": 4,
 "nbformat_minor": 5
}
