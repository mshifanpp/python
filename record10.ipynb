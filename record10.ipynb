{
 "cells": [
  {
   "cell_type": "code",
   "execution_count": 8,
   "id": "4926df35-5e94-4e5c-ae8d-f5eefba1fc16",
   "metadata": {},
   "outputs": [
    {
     "name": "stdin",
     "output_type": "stream",
     "text": [
      "enter the numbers of first list(seprated-commas 1,2,3\n",
      "enter the numbers of 2 list(seprated-commas 2,3,4\n"
     ]
    },
    {
     "name": "stdout",
     "output_type": "stream",
     "text": [
      "list 1 = [1, 2, 3]\n",
      "list 2 = [2, 3, 4]\n",
      "The list are same length\n",
      "The list sums value are note same\n",
      "The list contain comman values= {2, 3}\n"
     ]
    }
   ],
   "source": [
    "#1. Enter 2 lists of integers. Check (a) Whether list are of same length (b) whether list sums\n",
    "#to same value (c) whether any value occur in both.\n",
    "l1=list(map(int,input(\"enter the numbers of first list(seprated-commas\").split(\",\")))\n",
    "l2=list(map(int,input(\"enter the numbers of 2 list(seprated-commas\").split(\",\")))\n",
    "print(\"list 1 =\",l1)\n",
    "print(\"list 2 =\",l2)\n",
    "if len(l1)==len(l2):\n",
    "    print(\"The list are same length\")\n",
    "else:\n",
    "    print(\"The list length is note same\")\n",
    "x=sum(l1)\n",
    "y=sum(l2)\n",
    "if x==y:\n",
    "    print(\"The list sums value are same\")\n",
    "else:\n",
    "    print(\"The list sums value are note same\")\n",
    "z=set(l1)\n",
    "w=set(l2)\n",
    "common=z.intersection(w)\n",
    "print(\"The list contain comman values=\",common)\n"
   ]
  },
  {
   "cell_type": "code",
   "execution_count": 12,
   "id": "905a82f8-5772-43a9-a84e-40e6d7844a98",
   "metadata": {},
   "outputs": [
    {
     "name": "stdin",
     "output_type": "stream",
     "text": [
      "Enter a string :  run\n"
     ]
    },
    {
     "name": "stdout",
     "output_type": "stream",
     "text": [
      "modified dtring runing\n"
     ]
    }
   ],
   "source": [
    "#2. Add ‘ing’ at the end of a given string. If it already ends with ‘ing’, then add ‘ly’\n",
    "ing=input('Enter a string : ')\n",
    "if ing.endswith(\"ing\"):\n",
    "    ing=ing+\"ly\"\n",
    "else:\n",
    "    ing=ing+\"ing\"\n",
    "    print(\"modified dtring\",ing)\n",
    "    \n"
   ]
  },
  {
   "cell_type": "code",
   "execution_count": null,
   "id": "3d410aa3-6157-4990-b0df-7bed92f4646a",
   "metadata": {},
   "outputs": [],
   "source": []
  }
 ],
 "metadata": {
  "kernelspec": {
   "display_name": "Python 3 (ipykernel)",
   "language": "python",
   "name": "python3"
  },
  "language_info": {
   "codemirror_mode": {
    "name": "ipython",
    "version": 3
   },
   "file_extension": ".py",
   "mimetype": "text/x-python",
   "name": "python",
   "nbconvert_exporter": "python",
   "pygments_lexer": "ipython3",
   "version": "3.11.5"
  }
 },
 "nbformat": 4,
 "nbformat_minor": 5
}
