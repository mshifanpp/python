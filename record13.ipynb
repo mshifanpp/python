{
 "cells": [
  {
   "cell_type": "code",
   "execution_count": 4,
   "id": "08c6b41d-81c0-4777-ab57-8c0d61c8a7aa",
   "metadata": {},
   "outputs": [
    {
     "name": "stdin",
     "output_type": "stream",
     "text": [
      "Enter the list of words(seprated-commas): helo,hai\n"
     ]
    },
    {
     "name": "stdout",
     "output_type": "stream",
     "text": [
      "length of the longest word:= 4\n"
     ]
    }
   ],
   "source": [
    "#1. Accept a list of words and return length of longest word.\n",
    "def longest(words):\n",
    "    max_length = 0\n",
    "    for i in words:\n",
    "        if len(i) > max_length:\n",
    "            max_length = len(i)\n",
    "    return max_length\n",
    "words=input(\"Enter the list of words(seprated-commas):\").split(\",\")\n",
    "print(\"length of the longest word:=\",longest(words))"
   ]
  },
  {
   "cell_type": "code",
   "execution_count": 12,
   "id": "0170b2f1-5c6a-45ea-b49d-dc3dfc70d6c3",
   "metadata": {},
   "outputs": [
    {
     "name": "stdin",
     "output_type": "stream",
     "text": [
      "eneter the lines:= 5\n"
     ]
    },
    {
     "name": "stdout",
     "output_type": "stream",
     "text": [
      "* \n",
      "* * \n",
      "* * * \n",
      "* * * * \n",
      "* * * * * \n",
      "* * * * \n",
      "* * * \n",
      "* * \n",
      "* \n"
     ]
    }
   ],
   "source": [
    "#Construct following pattern using nested loop \n",
    "# * \n",
    "#*  * \n",
    "#*  *  * \n",
    "#*  *  *  * \n",
    "#*  *  *  *  * \n",
    "#*  *  *  * \n",
    "#*  *  * \n",
    "#*  * \n",
    "#*\n",
    "\n",
    "def stars(n):\n",
    "    # Increasing part\n",
    "    for i in range(1, n+1):\n",
    "        for j in range(i):\n",
    "            print(\"* \", end=\"\")\n",
    "        print()\n",
    "    # Decreasing part\n",
    "    for i in range(n-1, 0, -1):\n",
    "        for j in range(i):\n",
    "            print(\"* \", end=\"\")\n",
    "        print()\n",
    "x=int(input(\"eneter the lines:=\"))\n",
    "stars(x)"
   ]
  },
  {
   "cell_type": "code",
   "execution_count": 13,
   "id": "270f31eb-c8dc-4c4d-88c0-6b1dcbab7325",
   "metadata": {},
   "outputs": [
    {
     "name": "stdin",
     "output_type": "stream",
     "text": [
      "enter the number:  30\n"
     ]
    },
    {
     "name": "stdout",
     "output_type": "stream",
     "text": [
      "factors of 30 are\n",
      "1\n",
      "2\n",
      "3\n",
      "5\n",
      "6\n",
      "10\n",
      "15\n",
      "30\n"
     ]
    }
   ],
   "source": [
    "#3. Generate all factors of a number.\n",
    "n=int(input(\"enter the number: \"))\n",
    "print(\"factors of\",n,\"are\") \n",
    "def fact(n):\n",
    "    for i in range(1,n+1):\n",
    "        if n%i==0:\n",
    "            print(i)\n",
    "\n",
    "fact(n)     "
   ]
  },
  {
   "cell_type": "code",
   "execution_count": 14,
   "id": "9a2a0789-ed69-451e-bacc-bc31c4299277",
   "metadata": {},
   "outputs": [
    {
     "name": "stdin",
     "output_type": "stream",
     "text": [
      "enter the side of square: 5\n",
      "enter the length of rectancle: 2\n",
      "enter the breadth of rectancle: 6\n",
      "enter the breadth of triangle: 4\n",
      "enter the height of triangle: 5\n"
     ]
    },
    {
     "name": "stdout",
     "output_type": "stream",
     "text": [
      "the area of squares: 25.0\n",
      "the area of rectancle: 12.0\n",
      "the area of triangle: 10.0\n"
     ]
    }
   ],
   "source": [
    "#write lambda functions to find area of square,rectancle and trinangle\n",
    "squares=lambda s:side*side\n",
    "rectancle=lambda l,b:l* b\n",
    "triangle=lambda bt,h:0.5*bt*h\n",
    "side=float(input(\"enter the side of square:\"))\n",
    "l=float(input(\"enter the length of rectancle:\"))\n",
    "b=float(input(\"enter the breadth of rectancle:\"))\n",
    "bt=float(input(\"enter the breadth of triangle:\"))\n",
    "h=float(input(\"enter the height of triangle:\"))\n",
    "print(\"the area of squares:\",squares(side))\n",
    "print(\"the area of rectancle:\",rectancle(l,b))\n",
    "print(\"the area of triangle:\",triangle(h,bt))\n",
    "\n"
   ]
  },
  {
   "cell_type": "code",
   "execution_count": null,
   "id": "125b4019-5a98-4832-b334-47ec304382de",
   "metadata": {},
   "outputs": [],
   "source": []
  }
 ],
 "metadata": {
  "kernelspec": {
   "display_name": "Python 3 (ipykernel)",
   "language": "python",
   "name": "python3"
  },
  "language_info": {
   "codemirror_mode": {
    "name": "ipython",
    "version": 3
   },
   "file_extension": ".py",
   "mimetype": "text/x-python",
   "name": "python",
   "nbconvert_exporter": "python",
   "pygments_lexer": "ipython3",
   "version": "3.11.5"
  }
 },
 "nbformat": 4,
 "nbformat_minor": 5
}
