{
 "cells": [
  {
   "cell_type": "code",
   "execution_count": 8,
   "id": "86cafb3f-e976-43c7-b9e3-6db241a2f78e",
   "metadata": {},
   "outputs": [
    {
     "name": "stdin",
     "output_type": "stream",
     "text": [
      "python is object oriented program hai hai ma ma\n"
     ]
    },
    {
     "name": "stdout",
     "output_type": "stream",
     "text": [
      "the ocurance= {'hai': 2, 'ma': 2}\n"
     ]
    }
   ],
   "source": [
    "#1. Count the occurrences of each word in a line of text.\n",
    "line = input(\"Enter the full word\")\n",
    "counts = {}\n",
    "for word in line.split():\n",
    "    if word in counts:\n",
    "        counts[word] += 1\n",
    "    else:\n",
    "        counts[word] = 1\n",
    "print(\"the ocurance=\",\n",
    "          counts)"
   ]
  },
  {
   "cell_type": "code",
   "execution_count": 21,
   "id": "67c77620-61c9-487b-921a-f1f730197092",
   "metadata": {},
   "outputs": [
    {
     "name": "stdin",
     "output_type": "stream",
     "text": [
      "Enter the full word: hai hs hs \n"
     ]
    },
    {
     "name": "stdout",
     "output_type": "stream",
     "text": [
      "\n",
      "occurances hai : 1\n",
      "\n",
      "occurances  : 1\n",
      "\n",
      "occurances hs : 2\n"
     ]
    }
   ],
   "source": [
    "#1. Count the occurrences of each word in a line of text.\n",
    "line=input(\"Enter the full word:\").lower().split(\" \")\n",
    "for i in set(line):\n",
    "    count=line.count(i)\n",
    "    print(\"occurances\",i,\":\",count)\n"
   ]
  },
  {
   "cell_type": "code",
   "execution_count": 38,
   "id": "2e3a39f8-d761-4765-a93c-db6f2b246a15",
   "metadata": {},
   "outputs": [
    {
     "name": "stdin",
     "output_type": "stream",
     "text": [
      "enter the integers(seprated by commas): 100,10,101,330\n"
     ]
    },
    {
     "name": "stdout",
     "output_type": "stream",
     "text": [
      "The values greter than 100 is 'over' : [100, 10, 'over', 'over']\n"
     ]
    }
   ],
   "source": [
    "#2. Prompt the user for a list of integers. For all values greater than 100, store ‘over’ instead.\n",
    "x=list(map(int,input(\"enter the integers(seprated by commas):\").split(\",\")))\n",
    "y=[]\n",
    "for num in x:\n",
    "     if num>100:\n",
    "        y.append('over')\n",
    "     else:\n",
    "        y.append(num)\n",
    "print(\"The values greter than 100 is 'over' :\",y)"
   ]
  },
  {
   "cell_type": "code",
   "execution_count": 9,
   "id": "f4d1df1d-690a-4d00-b05e-fce9904ce56b",
   "metadata": {},
   "outputs": [
    {
     "name": "stdin",
     "output_type": "stream",
     "text": [
      "Enter the full word: hai hallo\n"
     ]
    },
    {
     "name": "stdout",
     "output_type": "stream",
     "text": [
      "total occurrences of 'a': 2\n"
     ]
    }
   ],
   "source": [
    "#3. Store a list of first names. Count the occurrences of ‘a’ within the list\n",
    "sentance=input(\"Enter the full word:\").lower().split(\" \")\n",
    "count=0\n",
    "for i in sentance:\n",
    "    count+=i.count(\"a\")\n",
    "print(\"total occurrences of 'a':\",count)"
   ]
  },
  {
   "cell_type": "code",
   "execution_count": 3,
   "id": "01079175-bc8e-4654-986c-7207aafc8581",
   "metadata": {},
   "outputs": [
    {
     "name": "stdin",
     "output_type": "stream",
     "text": [
      "enter the first first in integer: 5\n",
      "enter the second number in integer: 3\n"
     ]
    },
    {
     "name": "stdout",
     "output_type": "stream",
     "text": [
      "the gcd:= 1\n"
     ]
    }
   ],
   "source": [
    "#4. Find gcd of 2 numbers.\n",
    "a=int(input(\"enter the first first in integer:\"))\n",
    "b=int(input(\"enter the second number in integer:\"))\n",
    "while b!=0:\n",
    "    a,b=b,a%b\n",
    "print(\"the gcd:=\",a)1\n"
   ]
  },
  {
   "cell_type": "code",
   "execution_count": 39,
   "id": "18d6f2e4-51a4-48bc-9ee5-a5fc811f4594",
   "metadata": {},
   "outputs": [
    {
     "name": "stdin",
     "output_type": "stream",
     "text": [
      "enter the list in integer(sperated by commas): 1,2,3,4,5,6\n"
     ]
    },
    {
     "name": "stdout",
     "output_type": "stream",
     "text": [
      "After removing even numbers: [1, 3, 5]\n"
     ]
    }
   ],
   "source": [
    "#5. From a list of integers, create a list removing even numbers.\n",
    "x=input(\"enter the list in integer(sperated by commas):\").split(\",\")\n",
    "x = [int(i) for i in x]\n",
    "y=[]\n",
    "for i in x:\n",
    "    if i %2!=0:\n",
    "        y.append(i)\n",
    "print(\"After removing even numbers:\",y)"
   ]
  },
  {
   "cell_type": "code",
   "execution_count": 8,
   "id": "1ae3e203-03e5-4d0f-8820-c7c5eaf19f35",
   "metadata": {},
   "outputs": [
    {
     "name": "stdin",
     "output_type": "stream",
     "text": [
      "Enter  the number : 5\n"
     ]
    },
    {
     "name": "stdout",
     "output_type": "stream",
     "text": [
      "the factorial of the enterd number: 120\n"
     ]
    }
   ],
   "source": [
    "#6. Program to find the factorial of a number\n",
    "x=int(input(\"Enter  the number :\"))\n",
    "y=1\n",
    "for i in range(1,x+1):\n",
    "    y=y*i\n",
    "    i+=1\n",
    "print(\"the factorial of the enterd number:\",y)"
   ]
  },
  {
   "cell_type": "code",
   "execution_count": 33,
   "id": "d137f6af-3829-4231-b261-534cd9034c80",
   "metadata": {},
   "outputs": [
    {
     "name": "stdin",
     "output_type": "stream",
     "text": [
      "Enter the number of terms:  5\n"
     ]
    },
    {
     "name": "stdout",
     "output_type": "stream",
     "text": [
      " the fibonacci series:=\n",
      "1\n",
      "1\n",
      "2\n",
      "3\n",
      "5\n"
     ]
    }
   ],
   "source": [
    "#7. Generate Fibonacci series of N terms\n",
    "n = int(input(\"Enter the number of terms: \"))\n",
    "a=0\n",
    "b=1\n",
    "print(\" the fibonacci series:=\")\n",
    "for i in range(n):\n",
    "    a,b=b,a + b\n",
    "    print(a)\n",
    "\n"
   ]
  },
  {
   "cell_type": "code",
   "execution_count": 26,
   "id": "4bd4a40d-50e1-4c3a-a128-ca497ebfcd04",
   "metadata": {},
   "outputs": [
    {
     "name": "stdin",
     "output_type": "stream",
     "text": [
      "enter the items in the list (seprted-commas 1,2,3,4,5\n"
     ]
    },
    {
     "name": "stdout",
     "output_type": "stream",
     "text": [
      "the sum of all items in a list: = 15\n"
     ]
    }
   ],
   "source": [
    "#8. Find the sum of all items in a list\n",
    "xy=list(map(int,input(\"enter the items in the list (seprted-commas\").split(\",\")))\n",
    "total=0\n",
    "for i in xy:\n",
    "    total=total+i\n",
    "print(\"the sum of all items in a list: =\",total)"
   ]
  },
  {
   "cell_type": "code",
   "execution_count": 42,
   "id": "42f00808-b5bb-426c-b2b2-1ae4fa5e0d3e",
   "metadata": {},
   "outputs": [
    {
     "name": "stdout",
     "output_type": "stream",
     "text": [
      "The even and perfect square b/w 1000-9999:= [4624, 6084, 6400, 8464]\n"
     ]
    }
   ],
   "source": [
    "#9. Generate a list of four digit numbers in a given range with all their digits even and thenumber is a perfect square.\n",
    "import math\n",
    "result=[]\n",
    "for i in range(1000,10000):\n",
    "    root=math.isqrt(i)#finding squre root\n",
    "    if root**2==i:#finding perfect squre\n",
    "         digits = str(i)\n",
    "         if all(int(d) % 2 == 0 for d in digits):\n",
    "            result.append(i)\n",
    "print(\"The even and perfect square b/w 1000-9999:=\",result)\n",
    "        \n",
    "    "
   ]
  },
  {
   "cell_type": "code",
   "execution_count": 24,
   "id": "04d5d538-24c9-4dc8-ba79-34bf87af8914",
   "metadata": {},
   "outputs": [
    {
     "name": "stdin",
     "output_type": "stream",
     "text": [
      "Enter a string:  shifaaan\n"
     ]
    },
    {
     "name": "stdout",
     "output_type": "stream",
     "text": [
      "'s': 1\n",
      "'h': 1\n",
      "'i': 1\n",
      "'f': 1\n",
      "'a': 3\n",
      "'n': 1\n"
     ]
    }
   ],
   "source": [
    "#10. Count the number of characters (character frequency) in a string.\n",
    "xy= input(\"Enter a string: \")\n",
    "count = []\n",
    "for i in xy:\n",
    "    if i not in count:\n",
    "        frequency = xy.count(i)\n",
    "        print(f\"'{i}': {frequency}\")\n",
    "        count.append(i)"
   ]
  },
  {
   "cell_type": "code",
   "execution_count": 34,
   "id": "c35b7682-961f-48f1-9353-c61564e41ab5",
   "metadata": {},
   "outputs": [
    {
     "name": "stdin",
     "output_type": "stream",
     "text": [
      "Enter the number of steps for the pyramid:  5\n"
     ]
    },
    {
     "name": "stdout",
     "output_type": "stream",
     "text": [
      "1\t\n",
      "2\t4\t\n",
      "3\t6\t9\t\n",
      "4\t8\t12\t16\t\n",
      "5\t10\t15\t20\t25\t\n"
     ]
    }
   ],
   "source": [
    "#11. Display the given pyramid with step number accepted from user.\n",
    "N = int(input(\"Enter the number of steps for the pyramid: \"))\n",
    "\n",
    "for i in range(1, N + 1):\n",
    "    for j in range(1, i + 1):\n",
    "        print(i * j, end='\\t')\n",
    "    print()  \n",
    "\n"
   ]
  },
  {
   "cell_type": "code",
   "execution_count": null,
   "id": "8570c95a-4279-4f72-9250-52b907e5d5dc",
   "metadata": {},
   "outputs": [],
   "source": []
  }
 ],
 "metadata": {
  "kernelspec": {
   "display_name": "Python 3 (ipykernel)",
   "language": "python",
   "name": "python3"
  },
  "language_info": {
   "codemirror_mode": {
    "name": "ipython",
    "version": 3
   },
   "file_extension": ".py",
   "mimetype": "text/x-python",
   "name": "python",
   "nbconvert_exporter": "python",
   "pygments_lexer": "ipython3",
   "version": "3.11.5"
  }
 },
 "nbformat": 4,
 "nbformat_minor": 5
}
