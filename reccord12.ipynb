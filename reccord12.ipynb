{
 "cells": [
  {
   "cell_type": "code",
   "execution_count": 5,
   "id": "2a0f6a5d-1452-4969-a572-62135c78f6c8",
   "metadata": {},
   "outputs": [
    {
     "name": "stdin",
     "output_type": "stream",
     "text": [
      "Enter the list of integers(sperated-commas): -1,-2,-3,1,2,3\n"
     ]
    },
    {
     "name": "stdout",
     "output_type": "stream",
     "text": [
      "The positive list of intgers:= [1, 2, 3]\n"
     ]
    }
   ],
   "source": [
    "# (a) Generate positive list of numbers from a given list of integers \n",
    "x=list(map(int,input(\"Enter the list of integers(sperated-commas):\").split(\",\")))\n",
    "ilist=[i for i in x if i > 0 ]\n",
    "print(\"The positive list of intgers:=\",ilist)"
   ]
  },
  {
   "cell_type": "code",
   "execution_count": 8,
   "id": "6c1636e3-a2fb-460f-a1d1-5538f216cfc4",
   "metadata": {},
   "outputs": [
    {
     "name": "stdin",
     "output_type": "stream",
     "text": [
      "Enter the number: 5\n"
     ]
    },
    {
     "name": "stdout",
     "output_type": "stream",
     "text": [
      "The square of N numbers:= [1, 4, 9, 16, 25]\n"
     ]
    }
   ],
   "source": [
    "#(b) Square of N numbers \n",
    "y=int(input(\"Enter the number:\"))\n",
    "num=[i**2 for i in range(1,y+1)]\n",
    "print(\"The square of N numbers:=\",num)"
   ]
  },
  {
   "cell_type": "code",
   "execution_count": 14,
   "id": "ed4c5b55-87d0-4c10-9828-1ff78b3ac034",
   "metadata": {},
   "outputs": [
    {
     "name": "stdin",
     "output_type": "stream",
     "text": [
      "eneter  a word : elephant\n"
     ]
    },
    {
     "name": "stdout",
     "output_type": "stream",
     "text": [
      "The vowels from the word: ['e', 'e', 'a']\n"
     ]
    }
   ],
   "source": [
    "# (c) Form a list of vowels selected from a given word \n",
    "z=input(\"eneter  a word :\")\n",
    "word=[i for i in z if i.lower() in [\"a\",\"e\",\"i\",\"o\",\"u\"]]\n",
    "print(\"The vowels from the word:\",word)"
   ]
  },
  {
   "cell_type": "code",
   "execution_count": 15,
   "id": "d4a0ce10-d17f-4f62-8e0d-2852a883dcfe",
   "metadata": {},
   "outputs": [
    {
     "name": "stdin",
     "output_type": "stream",
     "text": [
      "Enter a word:  Aaee\n"
     ]
    },
    {
     "name": "stdout",
     "output_type": "stream",
     "text": [
      "Ordinal values: [65, 97, 101, 101]\n"
     ]
    }
   ],
   "source": [
    "#(d) List ordinal value of each element of a word (Hint: use ord() to get ordinal values)\n",
    "word = input(\"Enter a word: \")\n",
    "ordinal = [ord(i) for i in word]\n",
    "print(\"Ordinal values:\", ordinal)\n"
   ]
  },
  {
   "cell_type": "code",
   "execution_count": null,
   "id": "d6387805-35a9-4f0a-8088-16536162a709",
   "metadata": {},
   "outputs": [],
   "source": []
  }
 ],
 "metadata": {
  "kernelspec": {
   "display_name": "Python 3 (ipykernel)",
   "language": "python",
   "name": "python3"
  },
  "language_info": {
   "codemirror_mode": {
    "name": "ipython",
    "version": 3
   },
   "file_extension": ".py",
   "mimetype": "text/x-python",
   "name": "python",
   "nbconvert_exporter": "python",
   "pygments_lexer": "ipython3",
   "version": "3.11.5"
  }
 },
 "nbformat": 4,
 "nbformat_minor": 5
}
