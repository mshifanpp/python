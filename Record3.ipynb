{
 "cells": [
  {
   "cell_type": "code",
   "execution_count": 2,
   "id": "73393157-8dbd-4e01-b2e3-513f8c0f04be",
   "metadata": {},
   "outputs": [
    {
     "name": "stdin",
     "output_type": "stream",
     "text": [
      "enter the 1 st number 5\n",
      "enter the 1 st number 3\n",
      "enter the 1 st number 7\n"
     ]
    },
    {
     "name": "stdout",
     "output_type": "stream",
     "text": [
      "The biggest number= 7.0\n"
     ]
    }
   ],
   "source": [
    "#PROGRAM TO FIND THE BIGGEST OF THE THREE NUMBERS\n",
    "x=float(input(\"enter the 1 st number\"))\n",
    "y=float(input(\"enter the 1 st number\"))\n",
    "z=float(input(\"enter the 1 st number\"))\n",
    "p=max(x,y,z)\n",
    "print(\"The biggest number=\",p)"
   ]
  },
  {
   "cell_type": "code",
   "execution_count": null,
   "id": "c7b556a6-e448-467f-8d49-9611f737b73a",
   "metadata": {},
   "outputs": [],
   "source": []
  }
 ],
 "metadata": {
  "kernelspec": {
   "display_name": "Python 3 (ipykernel)",
   "language": "python",
   "name": "python3"
  },
  "language_info": {
   "codemirror_mode": {
    "name": "ipython",
    "version": 3
   },
   "file_extension": ".py",
   "mimetype": "text/x-python",
   "name": "python",
   "nbconvert_exporter": "python",
   "pygments_lexer": "ipython3",
   "version": "3.11.5"
  }
 },
 "nbformat": 4,
 "nbformat_minor": 5
}
