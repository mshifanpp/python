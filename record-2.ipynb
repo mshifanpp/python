{
 "cells": [
  {
   "cell_type": "code",
   "execution_count": 6,
   "id": "3e706917-7512-4a20-ae58-bfd43d23a5cd",
   "metadata": {},
   "outputs": [
    {
     "name": "stdin",
     "output_type": "stream",
     "text": [
      "enter the celsius  to be converted : 37\n"
     ]
    },
    {
     "name": "stdout",
     "output_type": "stream",
     "text": [
      "in fahrenheit 98.6 f\n"
     ]
    }
   ],
   "source": [
    "#convertion celsius to fahrenheit\n",
    "x=float(input(\"enter the celsius  to be converted :\"))\n",
    "y=x*9/5+32\n",
    "print(\"in fahrenheit\",y,\"f\")\n",
    "\n"
   ]
  },
  {
   "cell_type": "code",
   "execution_count": 9,
   "id": "34d010ab-2d53-455b-b034-99881ee19b08",
   "metadata": {},
   "outputs": [
    {
     "name": "stdin",
     "output_type": "stream",
     "text": [
      "enter the kilometers is converted 1\n"
     ]
    },
    {
     "name": "stdout",
     "output_type": "stream",
     "text": [
      "the converted kilometer to miles 0.62\n"
     ]
    }
   ],
   "source": [
    "#python program to convert kilometers to miles 1 Km=0.62137 miles\n",
    "x=float(input(\"enter the kilometers is converted\"))\n",
    "y=0.62137\n",
    "miles=x*y\n",
    "print(\"the converted kilometer to miles\",round(miles,2))"
   ]
  },
  {
   "cell_type": "code",
   "execution_count": null,
   "id": "4831d8c3-679d-491e-a28c-5733bf5abca8",
   "metadata": {},
   "outputs": [],
   "source": []
  }
 ],
 "metadata": {
  "kernelspec": {
   "display_name": "Python 3 (ipykernel)",
   "language": "python",
   "name": "python3"
  },
  "language_info": {
   "codemirror_mode": {
    "name": "ipython",
    "version": 3
   },
   "file_extension": ".py",
   "mimetype": "text/x-python",
   "name": "python",
   "nbconvert_exporter": "python",
   "pygments_lexer": "ipython3",
   "version": "3.11.5"
  }
 },
 "nbformat": 4,
 "nbformat_minor": 5
}
