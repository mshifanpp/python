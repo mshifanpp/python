{
 "cells": [
  {
   "cell_type": "code",
   "execution_count": 10,
   "id": "774d8c29-7970-450b-81a7-934a5d64b31e",
   "metadata": {},
   "outputs": [
    {
     "name": "stdin",
     "output_type": "stream",
     "text": [
      "enter the colors seprated by commas red,blue,black,white\n"
     ]
    },
    {
     "name": "stdout",
     "output_type": "stream",
     "text": [
      "the enterd colors ['red', 'blue', 'black', 'white']\n",
      "The fist color = red\n",
      "the last color = white\n"
     ]
    }
   ],
   "source": [
    "#create alist of colors from comma-seprated color names enterd by user .display first and last colors\n",
    "color=input(\"enter the colors seprated by commas\")\n",
    "test=color.split(\",\")\n",
    "print(\"the enterd colors\",test)\n",
    "print(\"The fist color =\",test[0])\n",
    "print(\"the last color =\",test[-1])\n"
   ]
  },
  {
   "cell_type": "code",
   "execution_count": 6,
   "id": "79174fef-cfca-4ba1-bd44-dc743ee1ae0a",
   "metadata": {},
   "outputs": [
    {
     "name": "stdin",
     "output_type": "stream",
     "text": [
      "enter the file name : python.c\n"
     ]
    },
    {
     "name": "stdout",
     "output_type": "stream",
     "text": [
      "Extention is : c\n"
     ]
    }
   ],
   "source": [
    "#write apython program to accept a filename from the user, print extention of that\n",
    "fn=input(\"enter the file name :\")\n",
    "ex=fn.split('.')[-1]\n",
    "print(\"Extention is :\",ex)"
   ]
  },
  {
   "cell_type": "code",
   "execution_count": 13,
   "id": "b588f2a2-fecc-48c5-9176-e25de5ef281b",
   "metadata": {},
   "outputs": [
    {
     "name": "stdin",
     "output_type": "stream",
     "text": [
      "enter the numbers seprated by commas 1,2,3\n"
     ]
    },
    {
     "name": "stdout",
     "output_type": "stream",
     "text": [
      "the sum of all numbers 6\n"
     ]
    }
   ],
   "source": [
    "#program which accepts a sequence of comma-seprated numbers from user and generate alist with those numbers and find sum of all in that list\n",
    "numbers=input(\"enter the numbers seprated by commas\")\n",
    "test= sum(list(map(int,numbers.split(\",\"))))\n",
    "print(\"the sum of all numbers\",test)\n",
    "\n"
   ]
  },
  {
   "cell_type": "code",
   "execution_count": null,
   "id": "67a95ccd-93b8-424a-bca6-1ab8dddf8bae",
   "metadata": {},
   "outputs": [],
   "source": []
  }
 ],
 "metadata": {
  "kernelspec": {
   "display_name": "Python 3 (ipykernel)",
   "language": "python",
   "name": "python3"
  },
  "language_info": {
   "codemirror_mode": {
    "name": "ipython",
    "version": 3
   },
   "file_extension": ".py",
   "mimetype": "text/x-python",
   "name": "python",
   "nbconvert_exporter": "python",
   "pygments_lexer": "ipython3",
   "version": "3.11.5"
  }
 },
 "nbformat": 4,
 "nbformat_minor": 5
}
