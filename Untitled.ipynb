
{
 "cells": [
  {
   "cell_type": "code",
   "execution_count": 1,
   "id": "757b97a4-5a33-4f04-b525-84aa1b843459",
   "metadata": {},
   "outputs": [
    {
     "name": "stdout",
     "output_type": "stream",
     "text": [
      "good morniing\n"
     ]
    }
   ],
   "source": [
    "print(\"good morniing\")"
   ]
  },
  {
   "cell_type": "code",
   "execution_count": 2,
   "id": "3a989ea1-14f7-42dd-8613-a98bb1df1da7",
   "metadata": {},
   "outputs": [
    {
     "name": "stdout",
     "output_type": "stream",
     "text": [
      " panthal parambil house \n",
      " valanchery po \n"
     ]
    }
   ],
   "source": [
    "print(\" panthal parambil house \\n valanchery po \")"
   ]
  },
  {
   "cell_type": "code",
   "execution_count": 3,
   "id": "7408e3cb-b585-4157-ba17-32f7fe11c48d",
   "metadata": {},
   "outputs": [
    {
     "name": "stdout",
     "output_type": "stream",
     "text": [
      " panthal parambil house \n",
      " valanchery po \n",
      " malappurum\n"
     ]
    }
   ],
   "source": [
    "print(\" panthal parambil house \\n valanchery po \\n malappurum\")"
   ]
  },
  {
   "cell_type": "code",
   "execution_count": 4,
   "id": "85f4b9e7-e540-44c5-926d-e69ec195bdab",
   "metadata": {},
   "outputs": [
    {
     "name": "stdout",
     "output_type": "stream",
     "text": [
      "2.5\n"
     ]
    }
   ],
   "source": [
    "print(5/2)"
   ]
  },
  {
   "cell_type": "code",
   "execution_count": 5,
   "id": "4e1f3f9a-792e-41a2-abb5-8b12199ce26d",
   "metadata": {},
   "outputs": [
    {
     "name": "stdout",
     "output_type": "stream",
     "text": [
      "2\n"
     ]
    }
   ],
   "source": [
    "print(5//2)"
   ]
  },
  {
   "cell_type": "code",
   "execution_count": 6,
   "id": "03949fdc-56ab-443a-8e6e-6d611aaab983",
   "metadata": {},
   "outputs": [
    {
     "name": "stdout",
     "output_type": "stream",
     "text": [
      "8\n"
     ]
    }
   ],
   "source": [
    "print(2**3)"
   ]
  },
  {
   "cell_type": "code",
   "execution_count": 8,
   "id": "53e6dffc-0182-4bd1-adbf-57f4f6a7196b",
   "metadata": {},
   "outputs": [
    {
     "name": "stdout",
     "output_type": "stream",
     "text": [
      "mca \"student\"\n"
     ]
    }
   ],
   "source": [
    "print('mca \"student\"')"
   ]
  },
  {
   "cell_type": "code",
   "execution_count": 19,
   "id": "61326c9b-294f-4245-8826-97e813741973",
   "metadata": {},
   "outputs": [
    {
     "name": "stdout",
     "output_type": "stream",
     "text": [
      "name = un\n"
     ]
    }
   ],
   "source": [
    "n=\"arjun\"\n",
    "\n",
    "print (\"name =\",n[3:6])"
   ]
  },
  {
   "cell_type": "code",
   "execution_count": null,
   "id": "35579a03-a8b3-4407-b0f4-d22e26a8fe98",
   "metadata": {},
   "outputs": [],
   "source": []
  }
 ],
 "metadata": {
  "kernelspec": {
   "display_name": "Python 3 (ipykernel)",
   "language": "python",
   "name": "python3"
  },
  "language_info": {
   "codemirror_mode": {
    "name": "ipython",
    "version": 3
   },
   "file_extension": ".py",
   "mimetype": "text/x-python",
   "name": "python",
   "nbconvert_exporter": "python",
   "pygments_lexer": "ipython3",
   "version": "3.11.5"
  }
 },
 "nbformat": 4,
 "nbformat_minor": 5
}
