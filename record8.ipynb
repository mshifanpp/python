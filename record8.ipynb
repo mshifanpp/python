{
 "cells": [
  {
   "cell_type": "code",
   "execution_count": 5,
   "id": "4aab5d8f-07bf-4741-bf95-22382c0c3608",
   "metadata": {},
   "outputs": [
    {
     "name": "stdin",
     "output_type": "stream",
     "text": [
      "Enter the colors of set A= red,blue,green\n",
      "Enter the colors of set B= blue,yellow\n"
     ]
    },
    {
     "name": "stdout",
     "output_type": "stream",
     "text": [
      "The colors of set A= {'red', 'blue', 'green'}\n",
      "The colors of set B= {'blue', 'yellow'}\n",
      "The colrs not in set B= {'red', 'green'}\n"
     ]
    }
   ],
   "source": [
    "#program to print out all colors from color set a  not contained in color set b\n",
    "sa=set(input(\"Enter the colors of set A=\").split(\",\"))\n",
    "sb=set(input(\"Enter the colors of set B=\").split(\",\"))\n",
    "print(\"The colors of set A=\",sa)\n",
    "print(\"The colors of set B=\",sb)\n",
    "ds = sa.difference(sb)\n",
    "print(\"The colrs not in set B=\",ds)\n",
    "\n"
   ]
  },
  {
   "cell_type": "code",
   "execution_count": 6,
   "id": "43cf4d48-0ca5-4ef7-82a9-2f3e266f1b32",
   "metadata": {},
   "outputs": [
    {
     "name": "stdin",
     "output_type": "stream",
     "text": [
      "Enter the colors of set 1= red,blue,green\n",
      "Enter the colors of set 2= yellow,black\n"
     ]
    },
    {
     "name": "stdout",
     "output_type": "stream",
     "text": [
      "The colors of set 1= {'red', 'blue', 'green'}\n",
      "The colors of set 2= {'yellow', 'black'}\n",
      "The  combained colrs of set1  and  set 2= {'red', 'yellow', 'green', 'blue', 'black'}\n"
     ]
    }
   ],
   "source": [
    "# python program to print out all colors from set 1 and set 2\n",
    "s1=set(input(\"Enter the colors of set 1=\").split(\",\"))\n",
    "s2=set(input(\"Enter the colors of set 2=\").split(\",\"))\n",
    "print(\"The colors of set 1=\",s1)\n",
    "print(\"The colors of set 2=\",s2)\n",
    "total=s1.union(s2)\n",
    "print(\"The  combained colrs of set1  and  set 2=\",total)\n",
    "\n"
   ]
  },
  {
   "cell_type": "code",
   "execution_count": null,
   "id": "783e05d8-330f-4092-b907-5c1dfbeb8141",
   "metadata": {},
   "outputs": [],
   "source": []
  }
 ],
 "metadata": {
  "kernelspec": {
   "display_name": "Python 3 (ipykernel)",
   "language": "python",
   "name": "python3"
  },
  "language_info": {
   "codemirror_mode": {
    "name": "ipython",
    "version": 3
   },
   "file_extension": ".py",
   "mimetype": "text/x-python",
   "name": "python",
   "nbconvert_exporter": "python",
   "pygments_lexer": "ipython3",
   "version": "3.11.5"
  }
 },
 "nbformat": 4,
 "nbformat_minor": 5
}
