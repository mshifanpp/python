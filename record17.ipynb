{
 "cells": [
  {
   "cell_type": "code",
   "execution_count": 1,
   "id": "89b72ceb-cad1-4562-95da-c40fca24855e",
   "metadata": {},
   "outputs": [
    {
     "name": "stdin",
     "output_type": "stream",
     "text": [
      "Enter the publisher name: Dc publication\n",
      "Enter the title name: The dead end\n",
      "Enter the author name: walker white\n",
      "Enter the price: 650\n",
      "Enter no_of_ pages: 463\n"
     ]
    },
    {
     "name": "stdout",
     "output_type": "stream",
     "text": [
      "Publisher Name: Dc publication\n",
      "Book Title: The dead end\n",
      "Author: walker white\n",
      "Price: 650\n",
      "No. of Pages: 463\n"
     ]
    }
   ],
   "source": [
    "\"\"\"Create a class Publisher (name). Derive class Book from Publisher with attributes title and\n",
    "author. Derive class Python from Book with attributes price and no_of_pages. Write a\n",
    "program that displays information about a Python book. Use base class constructor invocation and\n",
    "method overriding.\"\"\"\n",
    "class Publisher:\n",
    "    def __init__(self, name):\n",
    "        self.name = name\n",
    "\n",
    "    def display(self):\n",
    "        print(f\"Publisher Name: {self.name}\")\n",
    "\n",
    "\n",
    "# Derived class from Publisher\n",
    "class Book(Publisher):\n",
    "    def __init__(self, name, title, author):\n",
    "        super().__init__(name)  # invoking base class constructor\n",
    "        self.title = title\n",
    "        self.author = author\n",
    "\n",
    "    def display(self):\n",
    "        super().display()  # calling base class method\n",
    "        print(f\"Book Title: {self.title}\")\n",
    "        print(f\"Author: {self.author}\")\n",
    "\n",
    "\n",
    "# Derived class from Book\n",
    "class Python(Book):\n",
    "    def __init__(self, name, title, author, price, no_of_pages):\n",
    "        super().__init__(name, title, author)  # invoking base class constructor\n",
    "        self.price = price\n",
    "        self.no_of_pages = no_of_pages\n",
    "\n",
    "    # Overriding display() method\n",
    "    def display(self):\n",
    "        super().display() \n",
    "        print(f\"Price: {self.price}\")\n",
    "        print(f\"No. of Pages: {self.no_of_pages}\")\n",
    "\n",
    "pname=input(\"Enter the publisher name:\")\n",
    "title=input(\"Enter the title name:\")\n",
    "auth=input(\"Enter the author name:\")\n",
    "p=int(input(\"Enter the price:\"))\n",
    "no=int(input(\"Enter no_of_ pages:\"))\n",
    "obj = Python(pname, title,auth,p,no)\n",
    "obj.display()\n"
   ]
  },
  {
   "cell_type": "code",
   "execution_count": null,
   "id": "5625220a-76e3-479b-9400-28c67c6d1188",
   "metadata": {},
   "outputs": [],
   "source": []
  }
 ],
 "metadata": {
  "kernelspec": {
   "display_name": "Python 3 (ipykernel)",
   "language": "python",
   "name": "python3"
  },
  "language_info": {
   "codemirror_mode": {
    "name": "ipython",
    "version": 3
   },
   "file_extension": ".py",
   "mimetype": "text/x-python",
   "name": "python",
   "nbconvert_exporter": "python",
   "pygments_lexer": "ipython3",
   "version": "3.11.5"
  }
 },
 "nbformat": 4,
 "nbformat_minor": 5
}
