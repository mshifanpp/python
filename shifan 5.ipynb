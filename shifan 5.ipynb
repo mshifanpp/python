{
 "cells": [
  {
   "cell_type": "code",
   "execution_count": 1,
   "id": "82ae9373-7d5f-43b1-85df-415e37222d8b",
   "metadata": {},
   "outputs": [
    {
     "name": "stdout",
     "output_type": "stream",
     "text": [
      "shifan\n"
     ]
    }
   ],
   "source": [
    "print('shifan')"
   ]
  },
  {
   "cell_type": "code",
   "execution_count": 7,
   "id": "a5788760-dec0-4eea-85e6-91e21c14eba0",
   "metadata": {},
   "outputs": [
    {
     "name": "stdout",
     "output_type": "stream",
     "text": [
      "10.0\n"
     ]
    }
   ],
   "source": [
    "#import math\n",
    "number=100\n",
    "result= math.sqrt(number)\n",
    "print(result)"
   ]
  },
  {
   "cell_type": "code",
   "execution_count": 8,
   "id": "b963cfd0-1805-4583-af94-08a46b3c11ed",
   "metadata": {},
   "outputs": [
    {
     "name": "stdout",
     "output_type": "stream",
     "text": [
      "5\n",
      "4\n"
     ]
    }
   ],
   "source": [
    "num=4.7\n",
    "print(math.ceil(num))\n",
    "print(math.floor(num))"
   ]
  },
  {
   "cell_type": "code",
   "execution_count": 12,
   "id": "87220971-2275-419d-925b-f8aabe0e2bc2",
   "metadata": {},
   "outputs": [
    {
     "name": "stdin",
     "output_type": "stream",
     "text": [
      "enter the length of a side 10\n"
     ]
    },
    {
     "name": "stdout",
     "output_type": "stream",
     "text": [
      "area of square 100\n"
     ]
    }
   ],
   "source": [
    "#area of a square\n",
    "x=int(input(\"enter the length of a side\"))\n",
    "area=x*x\n",
    "print(\"area of square\",area)\n"
   ]
  },
  {
   "cell_type": "code",
   "execution_count": 13,
   "id": "474478f6-b138-4689-97cd-aaeade86af41",
   "metadata": {},
   "outputs": [
    {
     "name": "stdin",
     "output_type": "stream",
     "text": [
      "enter the base of a triangle : 5\n",
      "enter the hight of a triangle : 3\n"
     ]
    },
    {
     "name": "stdout",
     "output_type": "stream",
     "text": [
      "the area of right angled triangle : 7.5\n"
     ]
    }
   ],
   "source": [
    "#area of right-angled triangle\n",
    "x=int(input(\"enter the base of a triangle :\"))\n",
    "y=int(input(\"enter the hight of a triangle :\"))\n",
    "area=.5*x*y\n",
    "print(\"the area of right angled triangle :\",area)"
   ]
  },
  {
   "cell_type": "code",
   "execution_count": 2,
   "id": "0accb99e-e623-42eb-9bdb-8187458ff514",
   "metadata": {},
   "outputs": [
    {
     "name": "stdin",
     "output_type": "stream",
     "text": [
      "enter the nsme for greet : shifan\n"
     ]
    },
    {
     "name": "stdout",
     "output_type": "stream",
     "text": [
      "hello, shifan !\n"
     ]
    }
   ],
   "source": [
    "#program for print greetings for user \"hello,user name !\"\n",
    "x=input(\"enter the nsme for greet :\")\n",
    "print(\"hello,\",(x),\"!\")"
   ]
  },
  {
   "cell_type": "code",
   "execution_count": 3,
   "id": "3d6878f1-cb59-4c3d-bbdf-3d9833d93fe3",
   "metadata": {},
   "outputs": [
    {
     "name": "stdin",
     "output_type": "stream",
     "text": [
      "enter the number : 5\n"
     ]
    },
    {
     "name": "stdout",
     "output_type": "stream",
     "text": [
      "(4, 6)\n"
     ]
    }
   ],
   "source": [
    "#programme for print previous and next of an integer\n",
    "x=int(input(\"enter the number :\"))\n",
    "y=(x-1),(x+1)\n",
    "print(y)"
   ]
  },
  {
   "cell_type": "code",
   "execution_count": 4,
   "id": "8a36f892-3cd7-4f34-b23b-2637631a4c27",
   "metadata": {},
   "outputs": [
    {
     "name": "stdin",
     "output_type": "stream",
     "text": [
      "enter the principle amount : 100\n",
      "enter the intrest rate : 5\n",
      "enter the number of years: 2\n"
     ]
    },
    {
     "name": "stdout",
     "output_type": "stream",
     "text": [
      "simple intrest : 10.0\n"
     ]
    }
   ],
   "source": [
    "#program for computing simple intrest\n",
    "p=float(input(\"enter the principle amount :\"))\n",
    "r=float(input(\"enter the intrest rate :\"))\n",
    "y=float(input(\"enter the number of years:\"))\n",
    "si=(p*r*y)/100\n",
    "print(\"simple intrest :\",si)"
   ]
  },
  {
   "cell_type": "code",
   "execution_count": null,
   "id": "eebcad27-a25d-4978-a271-1ae087dcf277",
   "metadata": {},
   "outputs": [],
   "source": []
  }
 ],
 "metadata": {
  "kernelspec": {
   "display_name": "Python 3 (ipykernel)",
   "language": "python",
   "name": "python3"
  },
  "language_info": {
   "codemirror_mode": {
    "name": "ipython",
    "version": 3
   },
   "file_extension": ".py",
   "mimetype": "text/x-python",
   "name": "python",
   "nbconvert_exporter": "python",
   "pygments_lexer": "ipython3",
   "version": "3.11.5"
  }
 },
 "nbformat": 4,
 "nbformat_minor": 5
}
