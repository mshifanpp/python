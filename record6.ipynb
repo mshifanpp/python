{
 "cells": [
  {
   "cell_type": "code",
   "execution_count": 10,
   "id": "fe484add-ef7d-49c8-8a52-f855822e2610",
   "metadata": {},
   "outputs": [
    {
     "name": "stdin",
     "output_type": "stream",
     "text": [
      "Enter the numbers of tuple seprated by commas 1,2,3,4,5\n"
     ]
    },
    {
     "name": "stdout",
     "output_type": "stream",
     "text": [
      "tuple= (1.0, 2.0, 3.0, 4.0, 5.0)\n",
      "The third element = 3.0 the third from last 3.0\n"
     ]
    }
   ],
   "source": [
    "#python program to get the third element and 3 rd elment from last of the tuple\n",
    "t=tuple(map(float,input(\"Enter the numbers of tuple seprated by commas\").split(',')))\n",
    "print(\"tuple=\",t)\n",
    "third=t[2]\n",
    "lthird=t[-3]\n",
    "print(\"The third element =\",third,\"the third from last\",lthird)"
   ]
  },
  {
   "cell_type": "code",
   "execution_count": 6,
   "id": "35cd59e7-57cd-4c07-84ad-df0740b6fba2",
   "metadata": {},
   "outputs": [
    {
     "name": "stdin",
     "output_type": "stream",
     "text": [
      "enter the comma seprated tuple 1,2,3,4,5\n"
     ]
    },
    {
     "name": "stdout",
     "output_type": "stream",
     "text": [
      "tuple (1.0, 2.0, 3.0, 4.0, 5.0)\n",
      "The average of all element in a tuple = 3.0\n"
     ]
    }
   ],
   "source": [
    "#python program  which accepts sequences of comma seprated numbers and generate tuple and find its avrege\n",
    "tup=tuple(map(float,input(\"enter the comma seprated tuple\").split(',')))\n",
    "print(\"tuple\",tup)\n",
    "x=len(tup)\n",
    "y=sum(tup)\n",
    "\n",
    "print(\"The average of all element in a tuple =\",y/x)"
   ]
  },
  {
   "cell_type": "code",
   "execution_count": null,
   "id": "f254c6cd-f3af-4a09-92cb-1f7e9094e731",
   "metadata": {},
   "outputs": [],
   "source": []
  }
 ],
 "metadata": {
  "kernelspec": {
   "display_name": "Python 3 (ipykernel)",
   "language": "python",
   "name": "python3"
  },
  "language_info": {
   "codemirror_mode": {
    "name": "ipython",
    "version": 3
   },
   "file_extension": ".py",
   "mimetype": "text/x-python",
   "name": "python",
   "nbconvert_exporter": "python",
   "pygments_lexer": "ipython3",
   "version": "3.11.5"
  }
 },
 "nbformat": 4,
 "nbformat_minor": 5
}
