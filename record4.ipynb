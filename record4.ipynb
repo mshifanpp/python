{
 "cells": [
  {
   "cell_type": "code",
   "execution_count": 22,
   "id": "96045237-76a3-4f86-9ec9-7b8e6329e859",
   "metadata": {},
   "outputs": [
    {
     "name": "stdout",
     "output_type": "stream",
     "text": [
      "progr\n"
     ]
    }
   ],
   "source": [
    "n=\"programing\"\n",
    "a=n.capitalize\n",
    "print(n[0:-5])\n"
   ]
  },
  {
   "cell_type": "code",
   "execution_count": 31,
   "id": "8479a9dd-bd39-4b36-a756-9a5e1a603737",
   "metadata": {},
   "outputs": [
    {
     "name": "stdin",
     "output_type": "stream",
     "text": [
      "enter the string programing\n"
     ]
    },
    {
     "name": "stdout",
     "output_type": "stream",
     "text": [
      "convertes string is = grograminp\n"
     ]
    }
   ],
   "source": [
    "#python program to change given string to new string where the first and last characters are inter changed\n",
    "n=input(\"enter the string\")\n",
    "a=n[0:1]\n",
    "b=n[-1:]\n",
    "c=n[1:-1]\n",
    "print(\"convertes string is =\",b+c+a)\n",
    "\n",
    "\n"
   ]
  },
  {
   "cell_type": "code",
   "execution_count": 36,
   "id": "d38990ad-3aae-4378-9dd8-4657d3d88f85",
   "metadata": {},
   "outputs": [
    {
     "name": "stdin",
     "output_type": "stream",
     "text": [
      "Enter the string python\n"
     ]
    },
    {
     "name": "stdout",
     "output_type": "stream",
     "text": [
      "Converted string = pyon\n"
     ]
    }
   ],
   "source": [
    "#python program to get a string made of the first 2 and the last 2 chars from a given string\n",
    "x=input(\"Enter the string\")\n",
    "a=x[0:2]\n",
    "b=x[-2:]\n",
    "print(\"Converted string =\",a+b)"
   ]
  },
  {
   "cell_type": "code",
   "execution_count": 7,
   "id": "14e228d6-5c69-4e03-8f25-7dfbfff59c17",
   "metadata": {},
   "outputs": [
    {
     "name": "stdin",
     "output_type": "stream",
     "text": [
      "Enter the firt string helo\n",
      "Enter the  second string world\n"
     ]
    },
    {
     "name": "stdout",
     "output_type": "stream",
     "text": [
      "converted string is = wold herlo\n"
     ]
    }
   ],
   "source": [
    "#python program to get a single string from two given strings seprated by space and swap the first two charecters of each string\n",
    "x=input(\"Enter the firt string\")\n",
    "y=input(\"Enter the  second string\")\n",
    "p=x[0:2]\n",
    "g=x[-2:]\n",
    "q=y[0:2]\n",
    "h=y[-2:]\n",
    "z=x[2:-2]\n",
    "m=y[2:-2]\n",
    "print(\"converted string is =\",q+z+h,p+m+g)\n",
    "\n"
   ]
  },
  {
   "cell_type": "code",
   "execution_count": 2,
   "id": "80e1f6fe-82e5-40c0-9911-650d3334785e",
   "metadata": {},
   "outputs": [
    {
     "name": "stdin",
     "output_type": "stream",
     "text": [
      "enter a word heloh\n"
     ]
    },
    {
     "name": "stdout",
     "output_type": "stream",
     "text": [
      "modified word helo$\n"
     ]
    }
   ],
   "source": [
    "#python program to get a stringfrom agiven string where all occrance of its first char have been changed to$ first char otself.(use replace())\n",
    "word=input(\"enter a word\")\n",
    "first=word[0]\n",
    "new=word.replace(first,\"$\")\n",
    "print(\"modified word\",first+new[1:])\n"
   ]
  },
  {
   "cell_type": "code",
   "execution_count": null,
   "id": "6df909a9-57d3-4998-a946-53f919e82361",
   "metadata": {},
   "outputs": [],
   "source": []
  }
 ],
 "metadata": {
  "kernelspec": {
   "display_name": "Python 3 (ipykernel)",
   "language": "python",
   "name": "python3"
  },
  "language_info": {
   "codemirror_mode": {
    "name": "ipython",
    "version": 3
   },
   "file_extension": ".py",
   "mimetype": "text/x-python",
   "name": "python",
   "nbconvert_exporter": "python",
   "pygments_lexer": "ipython3",
   "version": "3.11.5"
  }
 },
 "nbformat": 4,
 "nbformat_minor": 5
}
