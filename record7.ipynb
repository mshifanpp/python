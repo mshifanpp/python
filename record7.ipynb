{
 "cells": [
  {
   "cell_type": "code",
   "execution_count": 11,
   "id": "0a8da21e-58c4-49b6-8fa4-d6d4a87a840a",
   "metadata": {},
   "outputs": [
    {
     "name": "stdout",
     "output_type": "stream",
     "text": [
      "the even number between 1 to 25 [0, 2, 4, 6, 8, 10, 12, 14, 16, 18, 20, 22, 24]\n",
      "The sum of even numbers between 1 to 25= 156\n"
     ]
    }
   ],
   "source": [
    "#program to print all even numbers from 1 to 25 and calculate its sum\n",
    "even=range(0,25,2)\n",
    "print(\"the even number between 1 to 25\",list(even))\n",
    "tu=sum(even)\n",
    "print(\"The sum of even numbers between 1 to 25=\",tu)"
   ]
  },
  {
   "cell_type": "code",
   "execution_count": 14,
   "id": "88142ecd-c6c0-45d3-a90e-a4f6e05a773b",
   "metadata": {},
   "outputs": [
    {
     "name": "stdout",
     "output_type": "stream",
     "text": [
      "the range is revrsed= [1, 2, 3, 4, 5, 6, 7, 8, 9, 10, 11, 12, 13, 14, 15, 16, 17, 18, 19, 20, 21, 22, 23, 24]\n",
      "reversed= [24, 23, 22, 21, 20, 19, 18, 17, 16, 15, 14, 13, 12, 11, 10, 9, 8, 7, 6, 5, 4, 3, 2, 1]\n",
      "sum of all numbers= 300\n"
     ]
    }
   ],
   "source": [
    "#python program to print all in revrse oder and calculate its sum\n",
    "x= range(1,25,1)\n",
    "print(\"the range is revrsed=\",list(x))\n",
    "y=range(24,0,-1)\n",
    "print(\"reversed=\",list(y))\n",
    "sr=sum(y)\n",
    "print(\"sum of all numbers=\",sr)\n"
   ]
  },
  {
   "cell_type": "code",
   "execution_count": null,
   "id": "0aa1477e-2065-41ad-9e99-dc4ff01950b1",
   "metadata": {},
   "outputs": [],
   "source": []
  }
 ],
 "metadata": {
  "kernelspec": {
   "display_name": "Python 3 (ipykernel)",
   "language": "python",
   "name": "python3"
  },
  "language_info": {
   "codemirror_mode": {
    "name": "ipython",
    "version": 3
   },
   "file_extension": ".py",
   "mimetype": "text/x-python",
   "name": "python",
   "nbconvert_exporter": "python",
   "pygments_lexer": "ipython3",
   "version": "3.11.5"
  }
 },
 "nbformat": 4,
 "nbformat_minor": 5
}
