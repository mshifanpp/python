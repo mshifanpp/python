{
 "cells": [
  {
   "cell_type": "raw",
   "id": "7b3c6251-c922-4526-9e43-f1d019b4739e",
   "metadata": {},
   "source": [
    "\n"
   ]
  },
  {
   "cell_type": "code",
   "execution_count": 14,
   "id": "9952f27e-9dec-42c9-b0f7-23e3b4fe1149",
   "metadata": {},
   "outputs": [
    {
     "name": "stdin",
     "output_type": "stream",
     "text": [
      "Enter the name of 5 students  names seprated by commas: hari,bh,ch\n",
      "Enter the name of 5 students  roll number seprated by commas: 1,9,7\n"
     ]
    },
    {
     "name": "stdout",
     "output_type": "stream",
     "text": [
      " the given dictionary= {'1': 'hari', '9': 'bh', '7': 'ch'}\n",
      "sorted dictonary as ascending oder= {'1': 'hari', '7': 'ch', '9': 'bh'}\n",
      "sorted dictonary as descending oder= {'9': 'bh', '7': 'ch', '1': 'hari'}\n"
     ]
    }
   ],
   "source": [
    "#1. Write a Python program to accept 5 students' names and roll numbers, and map these into a dictionary(roll as key, name as value). Sort the dictionary in ascending and descending order of their roll number [use sorted()] \n",
    "names=input(\"Enter the name of 5 students  names seprated by commas:\").split(\",\")\n",
    "roll=input(\"Enter the name of 5 students  roll number seprated by commas:\").split(\",\")\n",
    "x=dict(zip(roll,names))\n",
    "print(\" the given dictionary=\",x)\n",
    "y=dict(sorted(x.items()))\n",
    "\n",
    "print(\"sorted dictonary as ascending oder=\",y)\n",
    "z=dict(sorted(x.items(),reverse=True))\n",
    "print(\"sorted dictonary as descending oder=\",z)\n"
   ]
  },
  {
   "cell_type": "code",
   "execution_count": 12,
   "id": "78e858d3-7c00-406f-b811-de938801870b",
   "metadata": {},
   "outputs": [
    {
     "name": "stdin",
     "output_type": "stream",
     "text": [
      "Enter 3 roll numbers (comma-separated):  1,2,3\n",
      "Enter 3 student names (comma-separated):  shifan,hari,adi\n",
      "Enter 2 roll numbers (comma-separated):  4,5,6\n",
      "Enter 2 student names (comma-separated):  maya,rahul,arjun\n"
     ]
    },
    {
     "name": "stdout",
     "output_type": "stream",
     "text": [
      "entered 3 student details: {'1': 'shifan', '2': 'hari', '3': 'adi'}\n",
      "entered 2 student details: {'4': 'maya', '5': 'rahul', '6': 'arjun'}\n",
      "Merged student details: {'1': 'shifan', '2': 'hari', '3': 'adi', '4': 'maya', '5': 'rahul', '6': 'arjun'}\n"
     ]
    }
   ],
   "source": [
    "#write a python program  to accept 2 dictionaries(dic1 contain 3 students names and roll numbers and dic2 contain 2 students names and roll number).merge 2 dictionaries and display it[use update()]\n",
    "\n",
    "roll1 = input(\"Enter 3 roll numbers (comma-separated): \").split(\",\")\n",
    "name1 = input(\"Enter 3 student names (comma-separated): \").split(\",\")\n",
    "dic1 = dict(zip(roll1, name1))\n",
    "roll2 = input(\"Enter 2 roll numbers (comma-separated): \").split(\",\")\n",
    "name2 = input(\"Enter 2 student names (comma-separated): \").split(\",\")\n",
    "dic2 = dict(zip(roll2, name2))\n",
    "print(\"entered 3 student details:\",dic1)\n",
    "print(\"entered 2 student details:\",dic2)\n",
    "dic1.update(dic2)\n",
    "print(\"Merged student details:\", dic1)"
   ]
  },
  {
   "cell_type": "code",
   "execution_count": null,
   "id": "dc3d518f-aec2-427d-b344-15f9e32f495f",
   "metadata": {},
   "outputs": [],
   "source": []
  }
 ],
 "metadata": {
  "kernelspec": {
   "display_name": "Python 3 (ipykernel)",
   "language": "python",
   "name": "python3"
  },
  "language_info": {
   "codemirror_mode": {
    "name": "ipython",
    "version": 3
   },
   "file_extension": ".py",
   "mimetype": "text/x-python",
   "name": "python",
   "nbconvert_exporter": "python",
   "pygments_lexer": "ipython3",
   "version": "3.11.5"
  }
 },
 "nbformat": 4,
 "nbformat_minor": 5
}
