{
 "cells": [
  {
   "cell_type": "code",
   "execution_count": 4,
   "id": "2e376b02-7f6c-4ecd-8e2d-34054884079f",
   "metadata": {},
   "outputs": [
    {
     "name": "stdin",
     "output_type": "stream",
     "text": [
      "Enter length of the rctangle: 5\n",
      "Enter breadth of the rctangle: 6\n",
      "Enter length of the 2nd rctangle: 4\n",
      "Enter breadth of the 2nd rctangle: 5\n"
     ]
    },
    {
     "name": "stdout",
     "output_type": "stream",
     "text": [
      "Area of 1st rectangle: 30\n",
      "Peri meter of 1st rectangle: 22\n",
      "Area of 2nd rectangle: 20\n",
      "Peri meter of 2nd rectangle: 18\n",
      "Rectangle 1 is bigger:\n"
     ]
    }
   ],
   "source": [
    "\"\"\"Create Rectangle class with attributes length and breadth and\n",
    "methods to find area and perimeter. Compare two Rectangle\n",
    "objects by their area.\"\"\"\n",
    "class rectangle:\n",
    "    def __init__(self,length,breadth):\n",
    "        self.length=length\n",
    "        self.breadth=breadth\n",
    "    def area(self):\n",
    "        return self.length*self.breadth\n",
    "    def peri(self):\n",
    "         return 2*(self.length+self.breadth)  \n",
    "l1=int(input(\"Enter length of the rctangle:\"))\n",
    "b1=int(input(\"Enter breadth of the rctangle:\"))\n",
    "r1=rectangle(l1,b1)\n",
    "l2=int(input(\"Enter length of the 2nd rctangle:\"))\n",
    "b2=int(input(\"Enter breadth of the 2nd rctangle:\"))\n",
    "r2=rectangle(l2,b2)\n",
    "print(\"Area of 1st rectangle:\",r1.area())\n",
    "print(\"Peri meter of 1st rectangle:\",r1.peri())\n",
    "print(\"Area of 2nd rectangle:\",r2.area())\n",
    "print(\"Peri meter of 2nd rectangle:\",r2.peri())\n",
    "if r1.area()>r2.area():\n",
    "    print(\"Rectangle 1 is bigger:\")\n",
    "else:\n",
    "    print(\"Rectangle 2 is bigger:\")  "
   ]
  },
  {
   "cell_type": "code",
   "execution_count": null,
   "id": "138f2e80-2a67-4e35-894b-c80394c7bab3",
   "metadata": {},
   "outputs": [],
   "source": []
  }
 ],
 "metadata": {
  "kernelspec": {
   "display_name": "Python 3 (ipykernel)",
   "language": "python",
   "name": "python3"
  },
  "language_info": {
   "codemirror_mode": {
    "name": "ipython",
    "version": 3
   },
   "file_extension": ".py",
   "mimetype": "text/x-python",
   "name": "python",
   "nbconvert_exporter": "python",
   "pygments_lexer": "ipython3",
   "version": "3.11.5"
  }
 },
 "nbformat": 4,
 "nbformat_minor": 5
}
