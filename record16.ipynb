{
 "cells": [
  {
   "cell_type": "code",
   "execution_count": 13,
   "id": "989eed79-e0d2-4a33-b7a1-6746250c1da5",
   "metadata": {},
   "outputs": [
    {
     "name": "stdin",
     "output_type": "stream",
     "text": [
      "Enter your name:  muhammed shifan pp\n",
      "Enter account number:  456455\n",
      "Enter account type:  savings\n",
      "Enter initial balance:  1000\n",
      "\n",
      "1. Deposit  2. Withdraw  3. Balance Enquiry 4.Exit\n",
      "Choose your option:  3\n"
     ]
    },
    {
     "name": "stdout",
     "output_type": "stream",
     "text": [
      "Account number: 456455\n",
      "Account name: muhammed shifan pp\n",
      "The account type: savings\n",
      "Your Bank balance: 1000\n"
     ]
    },
    {
     "name": "stdin",
     "output_type": "stream",
     "text": [
      "\n",
      "1. Deposit  2. Withdraw  3. Balance Enquiry 4.Exit\n",
      "Choose your option:  2\n",
      "Enter your amount to withdraw:  300\n"
     ]
    },
    {
     "name": "stdout",
     "output_type": "stream",
     "text": [
      "Initial balance: 1000\n",
      "Final balance: 700\n",
      "Transaction completed.\n",
      "\n"
     ]
    },
    {
     "name": "stdin",
     "output_type": "stream",
     "text": [
      "\n",
      "1. Deposit  2. Withdraw  3. Balance Enquiry 4.Exit\n",
      "Choose your option:  1\n",
      "Enter your amount to deposit:  4000\n"
     ]
    },
    {
     "name": "stdout",
     "output_type": "stream",
     "text": [
      "The initial balance: 700\n",
      "Final Balance: 4700\n",
      "Successfully deposited.\n",
      "\n"
     ]
    },
    {
     "name": "stdin",
     "output_type": "stream",
     "text": [
      "\n",
      "1. Deposit  2. Withdraw  3. Balance Enquiry 4.Exit\n",
      "Choose your option:  4\n"
     ]
    },
    {
     "name": "stdout",
     "output_type": "stream",
     "text": [
      "Thank you for banking with us!\n"
     ]
    }
   ],
   "source": [
    "#BankAccount class with deposit, withdraw, show balance.\n",
    "\"\"\"Create a Bank account with members account number, name, type of account and balance.\n",
    "Write constructor and methods to deposit at the bank and withdraw an amount from the bank.\n",
    "\"\"\"\n",
    "\n",
    "class bank:\n",
    "    def __init__(self, acc_no, name, acc_type, balance):\n",
    "        self.acc_no = acc_no\n",
    "        self.name = name\n",
    "        self.acc_type = acc_type\n",
    "        self.balance = balance\n",
    "\n",
    "    def deposit(self, amount):\n",
    "        print(\"The initial balance:\", self.balance)\n",
    "        self.balance += amount\n",
    "        print(\"Final Balance:\", self.balance)\n",
    "    def withdraw(self, amount):\n",
    "        print(\"Initial balance:\", self.balance)\n",
    "        if amount > self.balance:\n",
    "            print(\"Insufficient balance!\")\n",
    "        else:\n",
    "            self.balance -= amount\n",
    "            print(\"Final balance:\", self.balance)\n",
    "    def display(self):\n",
    "        print(\"Account number:\", self.acc_no)\n",
    "        print(\"Account name:\", self.name)\n",
    "        print(\"The account type:\", self.acc_type)\n",
    "nam = input(\"Enter your name: \")\n",
    "accno = int(input(\"Enter account number: \"))\n",
    "typ = input(\"Enter account type: \")\n",
    "bal = int(input(\"Enter initial balance: \"))\n",
    "\n",
    "hold = bank(accno, nam, typ, bal)\n",
    "\n",
    "while (1):\n",
    "    ch = int(input(\"\\n1. Deposit  2. Withdraw  3. Balance Enquiry 4.Exit\\nChoose your option: \"))\n",
    "    if ch == 1:\n",
    "        amount = int(input(\"Enter your amount to deposit: \"))\n",
    "        hold.deposit(amount)\n",
    "        print(\"Successfully deposited.\\n\")\n",
    "    elif ch == 2:\n",
    "        amount = int(input(\"Enter your amount to withdraw: \"))\n",
    "        hold.withdraw(amount)\n",
    "        print(\"Transaction completed.\\n\")\n",
    "    elif ch == 3:\n",
    "        hold.display()\n",
    "        print(\"Your Bank balance:\",hold.balance)\n",
    "    else :\n",
    "        print(\"Thank you for banking with us!\")\n",
    "        break\n",
    "    \n"
   ]
  },
  {
   "cell_type": "code",
   "execution_count": null,
   "id": "ae558582-5faa-4846-91e4-1b5471b59aef",
   "metadata": {},
   "outputs": [],
   "source": []
  }
 ],
 "metadata": {
  "kernelspec": {
   "display_name": "Python 3 (ipykernel)",
   "language": "python",
   "name": "python3"
  },
  "language_info": {
   "codemirror_mode": {
    "name": "ipython",
    "version": 3
   },
   "file_extension": ".py",
   "mimetype": "text/x-python",
   "name": "python",
   "nbconvert_exporter": "python",
   "pygments_lexer": "ipython3",
   "version": "3.11.5"
  }
 },
 "nbformat": 4,
 "nbformat_minor": 5
}
