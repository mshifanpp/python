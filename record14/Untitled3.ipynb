{
 "cells": [
  {
   "cell_type": "code",
   "execution_count": null,
   "id": "8d8b7321-503f-4bbd-a529-5d8588a7dad5",
   "metadata": {},
   "outputs": [
    {
     "name": "stdout",
     "output_type": "stream",
     "text": [
      "\n",
      "1.Rectangle\n",
      "2.Circle\n",
      "3.cuboid\n",
      "4.sphear\n",
      "5.Exit\n",
      "\n"
     ]
    },
    {
     "name": "stdin",
     "output_type": "stream",
     "text": [
      "Enter your choice: 4\n",
      "Enter the radius of sphear: 6\n"
     ]
    },
    {
     "name": "stdout",
     "output_type": "stream",
     "text": [
      "Area of sphear: 452.15999999999997\n",
      "Perimeter of sphere: 37.68\n",
      "\n",
      "1.Rectangle\n",
      "2.Circle\n",
      "3.cuboid\n",
      "4.sphear\n",
      "5.Exit\n",
      "\n"
     ]
    }
   ],
   "source": [
    "from graphics import *\n",
    "from graphics import *\n",
    "from graphics.graphics3d.cuboides import cbarea,cbperi\n",
    "from graphics.graphics3d.sphear import sparea,spperi\n",
    "while(1):\n",
    "    print(\"\\n1.Rectangle\\n2.Circle\\n3.cuboid\\n4.sphear\\n5.Exit\\n\")\n",
    "    ch=int(input(\"Enter your choice:\"))\n",
    "    if ch==1:\n",
    "        a=int(input(\"Enter the breadth of rectangle\"))\n",
    "        b=int(input(\"Enter the length of rectangle\"))\n",
    "        print(\"the area of rectangle:\",rarea(a,b))\n",
    "        print(\"the perimeter of rectangle:\",rperi(a,b))\n",
    "    elif ch==2:\n",
    "        r=int(input(\"Enter the radius:\"))\n",
    "        print(\"Area of circle\",carea(r))\n",
    "        print(\"cperi of circle\",cperi(r))\n",
    "    elif ch==3:\n",
    "        b=int(input(\"Enter the breadth of cuboid: \"))\n",
    "        l=int(input(\"Enter the length of cuboid:\"))\n",
    "        h=int(input(\"Enter the height of cuboid:\"))\n",
    "        cbarea(l,b,h)\n",
    "        cbperi(l,b,h)\n",
    "    elif ch==4:\n",
    "        r=int(input(\"Enter the radius of sphear:\"))\n",
    "        sparea(r)\n",
    "        spperi(r)\n",
    "    else :\n",
    "        print(\"exitting...\")\n",
    "        break\n",
    "\n",
    "\n"
   ]
  },
  {
   "cell_type": "code",
   "execution_count": null,
   "id": "7129dfcd-eda8-4770-a2b8-38a823e4ae00",
   "metadata": {},
   "outputs": [],
   "source": []
  }
 ],
 "metadata": {
  "kernelspec": {
   "display_name": "Python 3 (ipykernel)",
   "language": "python",
   "name": "python3"
  },
  "language_info": {
   "codemirror_mode": {
    "name": "ipython",
    "version": 3
   },
   "file_extension": ".py",
   "mimetype": "text/x-python",
   "name": "python",
   "nbconvert_exporter": "python",
   "pygments_lexer": "ipython3",
   "version": "3.11.5"
  }
 },
 "nbformat": 4,
 "nbformat_minor": 5
}
