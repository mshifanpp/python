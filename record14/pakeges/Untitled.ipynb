{
 "cells": [
  {
   "cell_type": "markdown",
   "id": "2e51f539-6d8a-4e44-866f-4bfbd678aded",
   "metadata": {},
   "source": []
  },
  {
   "cell_type": "code",
   "execution_count": 18,
   "id": "8facde94-85c5-4e83-a2ec-e9cd316debbd",
   "metadata": {},
   "outputs": [
    {
     "name": "stdout",
     "output_type": "stream",
     "text": [
      "\n",
      "1.Rectangle\n",
      "2.Circle\n",
      "3.Exit\n",
      "\n"
     ]
    },
    {
     "name": "stdin",
     "output_type": "stream",
     "text": [
      "Enter your choice: 2\n",
      "Enter the radius: 5\n"
     ]
    },
    {
     "name": "stdout",
     "output_type": "stream",
     "text": [
      "The area of circle 78.5\n",
      "Area of circle None\n",
      "the perimeter of circle: 31.400000000000002\n",
      "cperi of circle None\n",
      "\n",
      "1.Rectangle\n",
      "2.Circle\n",
      "3.Exit\n",
      "\n"
     ]
    },
    {
     "name": "stdin",
     "output_type": "stream",
     "text": [
      "Enter your choice: 3\n"
     ]
    },
    {
     "name": "stdout",
     "output_type": "stream",
     "text": [
      "exitting...\n"
     ]
    }
   ],
   "source": [
    "from ractangle import *\n",
    "from circles  import *\n",
    "while(1):\n",
    "    print(\"\\n1.Rectangle\\n2.Circle\\n3.Exit\\n\")\n",
    "    ch=int(input(\"Enter your choice:\"))\n",
    "    if ch==1:\n",
    "        a=int(input(\"Enter the breadth of rectangle\"))\n",
    "        b=int(input(\"Enter the length of rectangle\"))\n",
    "        print(\"the area of rectangle:\",area(a,b))\n",
    "        print(\"the perimeter of rectangle:\",peri(a,b))\n",
    "    elif ch==2:\n",
    "        r=int(input(\"Enter the radius:\"))\n",
    "        print(\"Area of circle\",carea(r))\n",
    "        print(\"cperi of circle\",cperi(r))\n",
    "    else :\n",
    "        print(\"exitting...\")\n",
    "        break\n"
   ]
  },
  {
   "cell_type": "code",
   "execution_count": null,
   "id": "7f4df897-f5cc-4870-9711-bc7abc12eede",
   "metadata": {},
   "outputs": [],
   "source": []
  }
 ],
 "metadata": {
  "kernelspec": {
   "display_name": "Python 3 (ipykernel)",
   "language": "python",
   "name": "python3"
  },
  "language_info": {
   "codemirror_mode": {
    "name": "ipython",
    "version": 3
   },
   "file_extension": ".py",
   "mimetype": "text/x-python",
   "name": "python",
   "nbconvert_exporter": "python",
   "pygments_lexer": "ipython3",
   "version": "3.11.5"
  }
 },
 "nbformat": 4,
 "nbformat_minor": 5
}
