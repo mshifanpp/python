{
 "cells": [
  {
   "cell_type": "code",
   "execution_count": 1,
   "id": "4a348a12-5bdb-4e93-8990-82f1ec1e947b",
   "metadata": {},
   "outputs": [
    {
     "ename": "ModuleNotFoundError",
     "evalue": "No module named 'cuboid'",
     "output_type": "error",
     "traceback": [
      "\u001b[0;31m---------------------------------------------------------------------------\u001b[0m",
      "\u001b[0;31mModuleNotFoundError\u001b[0m                       Traceback (most recent call last)",
      "Cell \u001b[0;32mIn[1], line 3\u001b[0m\n\u001b[1;32m      1\u001b[0m \u001b[38;5;28;01mfrom\u001b[39;00m \u001b[38;5;21;01mrectangle\u001b[39;00m \u001b[38;5;28;01mimport\u001b[39;00m \u001b[38;5;241m*\u001b[39m\n\u001b[1;32m      2\u001b[0m \u001b[38;5;28;01mfrom\u001b[39;00m \u001b[38;5;21;01mcircles\u001b[39;00m \u001b[38;5;28;01mimport\u001b[39;00m \u001b[38;5;241m*\u001b[39m\n\u001b[0;32m----> 3\u001b[0m \u001b[38;5;28;01mfrom\u001b[39;00m \u001b[38;5;21;01mcuboid\u001b[39;00m \u001b[38;5;28;01mimport\u001b[39;00m \u001b[38;5;241m*\u001b[39m\n\u001b[1;32m      4\u001b[0m \u001b[38;5;28;01mfrom\u001b[39;00m \u001b[38;5;21;01msphear\u001b[39;00m \u001b[38;5;28;01mimport\u001b[39;00m \u001b[38;5;241m*\u001b[39m\n\u001b[1;32m      5\u001b[0m \u001b[38;5;28;01mwhile\u001b[39;00m(\u001b[38;5;241m1\u001b[39m):\n",
      "\u001b[0;31mModuleNotFoundError\u001b[0m: No module named 'cuboid'"
     ]
    }
   ],
   "source": [
    "from rectangle import *\n",
    "from circles import *\n",
    "from cuboid import *\n",
    "from sphear import *\n",
    "while(1):\n",
    "    print(\"\\n1.Rectangle\\n2.Circle\\n3.cuboid\\n4.sphear\\n5.Exit\\n\")\n",
    "    ch=int(input(\"Enter your choice:\"))\n",
    "    if ch==1:\n",
    "        a=int(input(\"Enter the breadth of rectangle\"))\n",
    "        b=int(input(\"Enter the length of rectangle\"))\n",
    "        print(\"the area of rectangle:\",rarea(a,b))\n",
    "        print(\"the perimeter of rectangle:\",rperi(a,b))\n",
    "    elif ch==2:\n",
    "        r=int(input(\"Enter the radius:\"))\n",
    "        print(\"Area of circle\",carea(r))\n",
    "        print(\"cperi of circle\",cperi(r))\n",
    "    elif ch==3:\n",
    "        b=int(input(\"Enter the breadth of cuboid: \"))\n",
    "        l=int(input(\"Enter the length of cuboid:\"))\n",
    "        h=int(input(\"Enter the height of cuboid:\"))\n",
    "        cbarea(l,b,h)\n",
    "        cbperi(l,b,h)\n",
    "    elif ch==4:\n",
    "        r=int(input(\"Enter the radius of sphear:\"))\n",
    "        sparea(r)\n",
    "        spperi(r)\n",
    "    else :\n",
    "        print(\"exitting...\")\n",
    "        break\n",
    "\n",
    "\n"
   ]
  },
  {
   "cell_type": "code",
   "execution_count": null,
   "id": "2fe02966-2b72-4a89-bbe6-480021696b45",
   "metadata": {},
   "outputs": [],
   "source": []
  }
 ],
 "metadata": {
  "kernelspec": {
   "display_name": "Python 3 (ipykernel)",
   "language": "python",
   "name": "python3"
  },
  "language_info": {
   "codemirror_mode": {
    "name": "ipython",
    "version": 3
   },
   "file_extension": ".py",
   "mimetype": "text/x-python",
   "name": "python",
   "nbconvert_exporter": "python",
   "pygments_lexer": "ipython3",
   "version": "3.11.5"
  }
 },
 "nbformat": 4,
 "nbformat_minor": 5
}
